{
 "cells": [
  {
   "cell_type": "code",
   "execution_count": 1,
   "metadata": {},
   "outputs": [],
   "source": [
    "import pandas as pd \n",
    "from openai import OpenAI\n",
    "import json"
   ]
  },
  {
   "cell_type": "code",
   "execution_count": 2,
   "metadata": {},
   "outputs": [],
   "source": [
    "# 設定OpenAI API\n",
    "client = OpenAI(\n",
    "    api_key = 'xxxxxxxx'\n",
    ")\n"
   ]
  },
  {
   "cell_type": "code",
   "execution_count": 3,
   "metadata": {},
   "outputs": [
    {
     "name": "stdout",
     "output_type": "stream",
     "text": [
      "Python 是一種高級、直譯式的程式語言，具有簡潔易讀的語法，適合初學者和專業開發人員使用。以下是 Python 的一些特點：\n",
      "\n",
      "1. **簡單易讀**：Python 的語法設計強調可讀性，這使得程式碼更容易理解和維護。\n",
      "\n",
      "2. **多範式支援**：Python 支援多種程式設計範式，包括物件導向、函數式和命令式編程。\n",
      "\n",
      "3. **豐富的標準庫**：Python 附帶了一個功能強大的標準庫，涵蓋了多種功能，如文件操作、數據處理、網路通訊、正則表達式等。\n",
      "\n",
      "4. **跨平台**：Python 可以在多種作業系統上運行，包括 Windows、macOS 和 Linux。\n",
      "\n",
      "5. **社群活躍**：Python 擁有龐大的使用者社群，提供豐富的資源和第三方庫，例如 NumPy、Pandas、Django 和 Flask 等。\n",
      "\n",
      "6. **廣泛應用**：Python 被廣泛應用於網頁開發、數據分析、人工智慧、機器學習、自動化腳本、科學計算等領域。\n",
      "\n",
      "7. **動態類型**：Python 是一種動態類型的語言，這意味著變數不需要明確聲明類型，類型是在執行時決定的。\n",
      "\n",
      "總的來說，Python 是一種功能強大且靈活的編程語言，受到廣泛的喜愛和應用。\n"
     ]
    }
   ],
   "source": [
    "completion = client.chat.completions.create(\n",
    "  model=\"gpt-4o-mini\",\n",
    "  messages=[\n",
    "    {\"role\": \"system\", \"content\": \"...\"},\n",
    "    {\"role\": \"user\", \"content\": \"請問 Python 是一個怎樣的程式語言？\"}\n",
    "  ]\n",
    ")\n",
    "\n",
    "print(completion.choices[0].message.content)"
   ]
  },
  {
   "cell_type": "code",
   "execution_count": null,
   "metadata": {},
   "outputs": [
    {
     "name": "stdout",
     "output_type": "stream",
     "text": [
      "{\n",
      "    \"intent\": \"查詢\",\n",
      "    \"parameters\": {\n",
      "        \"對象\": \"employee\",\n",
      "        \"操作\": \"欄位\"\n",
      "    }\n",
      "}\n",
      "GPT解析結果: {\n",
      "    \"intent\": \"查詢\",\n",
      "    \"parameters\": {\n",
      "        \"對象\": \"employee\",\n",
      "        \"操作\": \"欄位\"\n",
      "    }\n",
      "}\n",
      "解析出的意圖: 查詢\n",
      "解析出的參數: {'對象': 'employee', '操作': '欄位'}\n",
      "查詢結果: ['ID' 'DEPT_ID' 'SALARY']\n"
     ]
    }
   ],
   "source": [
    "# 函數：讀取CSV文件\n",
    "def load_csv_to_dataframe(file_path='tables_and_columns.csv'):\n",
    "    df = pd.read_csv(file_path)\n",
    "    return df\n",
    "\n",
    "# 函數：根據用戶查詢進行數據檢索\n",
    "def query_data(df, intent, parameters):\n",
    "    if any(keyword in intent for keyword in [\"查詢\",\"顯示\"]):\n",
    "        if any(keyword in parameters.get(\"對象\") for keyword in [\"表單\", \"tables\"]):\n",
    "            tables = df['table_name'].unique()\n",
    "            return tables\n",
    "        elif any(keyword in parameters.get(\"操作\") for keyword in [\"欄位\", \"columns\"]) and \"對象\" in parameters:\n",
    "            table_name = parameters[\"對象\"]\n",
    "            columns = df[df['table_name'] == table_name]['column_name'].unique()\n",
    "            return columns\n",
    "    return \"查詢無結果\"\n",
    "\n",
    "\n",
    "\n",
    "# 函數：從用戶輸入中解析意圖和參數\n",
    "def parse_intent_with_gpt(user_input):\n",
    "    prompt = f\"\"\"\n",
    "    你是一個有用的助手，能夠解析用戶輸入並提取意圖和參數。\n",
    "    請將以下用戶輸入解析成包含意圖和參數的JSON格式：\n",
    "    用戶輸入: \"{user_input}\"\n",
    "    返回格式: {{\"intent\": \"<意圖>\", \"parameters\": {{\"對象\": \"<表單名>\", \"操作\": \"<欄位>\"}}}}\n",
    "    \"\"\"\n",
    "    response = client.chat.completions.create(\n",
    "        model=\"gpt-3.5-turbo\",\n",
    "        messages=[\n",
    "            {\"role\": \"system\", \"content\": \"你是一個有用的助手，能夠解析用戶輸入並提取意圖和參數。\"},\n",
    "            {\"role\": \"user\", \"content\": prompt}\n",
    "        ],\n",
    "        max_tokens=50,\n",
    "        temperature=0.5\n",
    "    )\n",
    "    print(response.choices[0].message.content)\n",
    "    return response.choices[0].message.content\n",
    "\n",
    "# 函數：處理用戶輸入\n",
    "def process_user_input(user_input):\n",
    "    # 在這裡調用 load_csv_to_dataframe 函數\n",
    "    df = load_csv_to_dataframe()\n",
    "\n",
    "    # 調用 GPT 模型解析意圖和參數\n",
    "    gpt_response = parse_intent_with_gpt(user_input)\n",
    "    print(f\"GPT解析結果: {gpt_response}\")\n",
    "\n",
    "    # 假設 GPT 返回的結果是 JSON 格式，解析意圖和參數\n",
    "    intent, parameters = parse_gpt_response(gpt_response)\n",
    "    print(f\"解析出的意圖: {intent}\")\n",
    "    print(f\"解析出的參數: {parameters}\")\n",
    "\n",
    "    # 根據意圖和參數進行查詢\n",
    "    result = query_data(df, intent, parameters)\n",
    "    return result\n",
    "\n",
    "# 模擬解析 GPT 返回的 JSON 內容\n",
    "def parse_gpt_response(gpt_response):\n",
    "    parsed_response = json.loads(gpt_response)\n",
    "    intent = parsed_response.get(\"intent\")\n",
    "    parameters = parsed_response.get(\"parameters\", {})\n",
    "    return intent, parameters\n",
    "\n",
    "# 主函數\n",
    "def main():\n",
    "    # 獲取用戶查詢\n",
    "    user_query = input(\"請輸入查詢內容: \")  # 假設這是使用者的輸入\n",
    "\n",
    "    # 處理用戶輸入\n",
    "    result = process_user_input(user_query)\n",
    "    print(f\"查詢結果: {result}\")\n",
    "\n",
    "if __name__ == \"__main__\":\n",
    "    main()\n"
   ]
  }
 ],
 "metadata": {
  "kernelspec": {
   "display_name": "project_env",
   "language": "python",
   "name": "python3"
  },
  "language_info": {
   "codemirror_mode": {
    "name": "ipython",
    "version": 3
   },
   "file_extension": ".py",
   "mimetype": "text/x-python",
   "name": "python",
   "nbconvert_exporter": "python",
   "pygments_lexer": "ipython3",
   "version": "3.9.8"
  }
 },
 "nbformat": 4,
 "nbformat_minor": 2
}
