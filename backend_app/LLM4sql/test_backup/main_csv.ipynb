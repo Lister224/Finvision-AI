{
 "cells": [
  {
   "cell_type": "code",
   "execution_count": 7,
   "metadata": {},
   "outputs": [],
   "source": [
    "from openai import OpenAI\n",
    "from g4f.client import Client\n",
    "from db_utils import csv_read,query_database\n",
    "import re\n",
    "import pandas as pd"
   ]
  },
  {
   "cell_type": "code",
   "execution_count": 8,
   "metadata": {},
   "outputs": [],
   "source": [
    "client = Client()"
   ]
  },
  {
   "cell_type": "code",
   "execution_count": 9,
   "metadata": {},
   "outputs": [],
   "source": [
    "def generate_sql_from_nl(user_input):\n",
    "    csv_string = csv_read()\n",
    "    system_prompt = f''''\n",
    "        1. 你是一個資料庫專家，能夠生成相應的SQL指令。 \n",
    "        2. SQL的編寫請用全英文。\n",
    "        3. 非常重要!返回sql語法即可，不用其他說明與文字。\n",
    "        4. MYSQL code中請不要出現沒有的英文名稱。\n",
    "        5. 請務必生成完整SQL語法。\n",
    "        '''\n",
    "\n",
    "    user_prompt = f'''\n",
    "        資料庫結構、表名稱、欄位名稱請務必參考以下內容:{csv_string}\n",
    "        千萬不能生成沒有的sql表名與欄名!\n",
    "        \n",
    "                '''\n",
    "    response = client.chat.completions.create(\n",
    "        model=\"gemini-pro\",\n",
    "        messages=[\n",
    "            {\"role\": \"system\", \"content\": system_prompt},\n",
    "            {\"role\": \"user\", \"content\": user_input + user_prompt}\n",
    "        ],\n",
    "        max_tokens=150,\n",
    "        temperature=0.1\n",
    "    )\n",
    "    sql_response = response.choices[0].message.content\n",
    "    print(f\"回答:{sql_response}\")\n",
    "    return sql_response\n"
   ]
  },
  {
   "cell_type": "markdown",
   "metadata": {},
   "source": [
    "模型可用系列:GPT、Gemini"
   ]
  },
  {
   "cell_type": "markdown",
   "metadata": {},
   "source": [
    "測試生成sql，gemini pro生成結果比較精簡，正確率較高!"
   ]
  },
  {
   "cell_type": "code",
   "execution_count": 10,
   "metadata": {},
   "outputs": [],
   "source": [
    "def extract_sql_queries(sql_response):\n",
    "    matches = re.findall(r'SELECT.*?;', sql_response, re.IGNORECASE | re.DOTALL) \n",
    "    if matches: \n",
    "        return matches \n",
    "    else: \n",
    "        raise ValueError(\"SQL查詢指令未找到\")"
   ]
  },
  {
   "cell_type": "code",
   "execution_count": 16,
   "metadata": {},
   "outputs": [],
   "source": [
    "def main():\n",
    "    user_input =\"我要查詢員工的薪資及相對應的薪資等級。另外再查詢顧客表內的所有資料。\"   #input(\"請輸入內容: \") \n",
    "    # 初次調用GPT判斷是否需要function calling \n",
    "    response_1 = client.chat.completions.create( model=\"gpt-4o-mini\", \n",
    "                                                messages=[\n",
    "                                                {\"role\": \"system\", \n",
    "                                                 \"content\":\"請判斷使用者輸入是否需要連線到資料庫查詢，若需要請回答YES即可!若不需要則正常對話\"},\n",
    "                                                {\"role\": \"user\", \"content\": user_input}])\n",
    "    \n",
    "    print('===== 初次調用GPT判斷 =====')\n",
    "    if 'YES' in response_1.choices[0].message.content:\n",
    "        sql_response = generate_sql_from_nl(user_input) \n",
    "        sql_query = extract_sql_queries(sql_response)\n",
    "        print(f'生成的SQL指令: {sql_query}') \n",
    "        # 執行GPT生成的SQL查詢 \n",
    "        result = query_database(sql_query)\n",
    "        print(f'查詢結果: {result}')\n",
    "        return(\"OK\")\n",
    "\n",
    "    else: \n",
    "        # 一般對話處理\n",
    "        return(response_1.choices[0].message.content)\n",
    "         \n"
   ]
  },
  {
   "cell_type": "code",
   "execution_count": 17,
   "metadata": {},
   "outputs": [
    {
     "name": "stdout",
     "output_type": "stream",
     "text": [
      "===== 初次調用GPT判斷 =====\n"
     ]
    },
    {
     "name": "stderr",
     "output_type": "stream",
     "text": [
      "C:\\Users\\TMP214\\AppData\\Local\\Programs\\Python\\Python39\\lib\\asyncio\\events.py:80: UserWarning: Curlm alread closed! quitting from process_data\n",
      "  self._context.run(self._callback, *self._args)\n"
     ]
    },
    {
     "name": "stdout",
     "output_type": "stream",
     "text": [
      "回答:```sql\n",
      "SELECT e.ENAME, e.SAL, sg.GRADE\n",
      "FROM emp e\n",
      "JOIN salgrade sg ON e.SAL BETWEEN sg.LOSAL AND sg.HISAL;\n",
      "\n",
      "SELECT * FROM customer;\n",
      "```\n",
      "生成的SQL指令: ['SELECT e.ENAME, e.SAL, sg.GRADE\\r\\nFROM emp e\\r\\nJOIN salgrade sg ON e.SAL BETWEEN sg.LOSAL AND sg.HISAL;', 'SELECT * FROM customer;']\n",
      "連線成功\n",
      "查詢結果: [[{\"ENAME\": \"SMITH\", \"SAL\": 800.0, \"GRADE\": 1}, {\"ENAME\": \"ALLEN\", \"SAL\": 1600.0, \"GRADE\": 3}, {\"ENAME\": \"WARD\", \"SAL\": 1250.0, \"GRADE\": 2}, {\"ENAME\": \"JONES\", \"SAL\": 2975.0, \"GRADE\": 4}, {\"ENAME\": \"MARTIN\", \"SAL\": 1250.0, \"GRADE\": 2}, {\"ENAME\": \"BLAKE\", \"SAL\": 2850.0, \"GRADE\": 4}, {\"ENAME\": \"CLARK\", \"SAL\": 2450.0, \"GRADE\": 4}, {\"ENAME\": \"SCOTT\", \"SAL\": 3000.0, \"GRADE\": 4}, {\"ENAME\": \"KING\", \"SAL\": 5000.0, \"GRADE\": 5}, {\"ENAME\": \"TURNER\", \"SAL\": 1500.0, \"GRADE\": 3}, {\"ENAME\": \"ADAMS\", \"SAL\": 1100.0, \"GRADE\": 1}, {\"ENAME\": \"JAMES\", \"SAL\": 950.0, \"GRADE\": 1}, {\"ENAME\": \"FORD\", \"SAL\": 3000.0, \"GRADE\": 4}, {\"ENAME\": \"MILLER\", \"SAL\": 1300.0, \"GRADE\": 2}], [{\"CUSTID\": 100, \"NAME\": \"JOCKSPORTS\", \"ADDRESS\": \"345 VIEWRIDGE\", \"CITY\": \"BELMONT\", \"STATE\": \"CA\", \"ZIP\": \"96711\", \"AREA\": 415.0, \"PHONE\": \"598-6609\", \"REPID\": 7844, \"CREDITLIMIT\": 5000.0}, {\"CUSTID\": 101, \"NAME\": \"TKB SPORT SHOP\", \"ADDRESS\": \"490 BOLI RD.\", \"CITY\": \"REDWOOD CITY\", \"STATE\": \"CA\", \"ZIP\": \"94061\", \"AREA\": 415.0, \"PHONE\": \"368-1223\", \"REPID\": 7521, \"CREDITLIMIT\": 10000.0}, {\"CUSTID\": 102, \"NAME\": \"VOLLYRITE\", \"ADDRESS\": \"9722 HAMILTON\", \"CITY\": \"BURLINGAME\", \"STATE\": \"CA\", \"ZIP\": \"95133\", \"AREA\": 415.0, \"PHONE\": \"644-3341\", \"REPID\": 7654, \"CREDITLIMIT\": 7000.0}, {\"CUSTID\": 103, \"NAME\": \"JUST TENNIS\", \"ADDRESS\": \"HILLVIEW MALL\", \"CITY\": \"BURLINGAME\", \"STATE\": \"CA\", \"ZIP\": \"97544\", \"AREA\": 415.0, \"PHONE\": \"677-9312\", \"REPID\": 7521, \"CREDITLIMIT\": 3000.0}, {\"CUSTID\": 104, \"NAME\": \"EVERY MOUNTAIN\", \"ADDRESS\": \"574 SUYYYYY RD.\", \"CITY\": \"CUPERTINO\", \"STATE\": \"CA\", \"ZIP\": \"93301\", \"AREA\": 408.0, \"PHONE\": \"996-2323\", \"REPID\": 7499, \"CREDITLIMIT\": 10000.0}, {\"CUSTID\": 105, \"NAME\": \"K + T SPORTS\", \"ADDRESS\": \"3476 EL PASEO\", \"CITY\": \"SANTA CLARA\", \"STATE\": \"CA\", \"ZIP\": \"91003\", \"AREA\": 408.0, \"PHONE\": \"376-9966\", \"REPID\": 7844, \"CREDITLIMIT\": 5000.0}, {\"CUSTID\": 106, \"NAME\": \"SHAPE UP\", \"ADDRESS\": \"908 SEQUOIA\", \"CITY\": \"PALO ALTO\", \"STATE\": \"CA\", \"ZIP\": \"94301\", \"AREA\": 415.0, \"PHONE\": \"364-9777\", \"REPID\": 7521, \"CREDITLIMIT\": 6000.0}, {\"CUSTID\": 107, \"NAME\": \"WOMENS SPORTS\", \"ADDRESS\": \"VALCO VILLAGE\", \"CITY\": \"SUNNYVALE\", \"STATE\": \"CA\", \"ZIP\": \"93301\", \"AREA\": 408.0, \"PHONE\": \"967-4398\", \"REPID\": 7499, \"CREDITLIMIT\": 10000.0}, {\"CUSTID\": 108, \"NAME\": \"NORTH WOODS HEALTH AND FITNESS SUPPLY CENTER\", \"ADDRESS\": \"98 LONE PINE WAY\", \"CITY\": \"HIBBING\", \"STATE\": \"MN\", \"ZIP\": \"55649\", \"AREA\": 612.0, \"PHONE\": \"566-9123\", \"REPID\": 7844, \"CREDITLIMIT\": 8000.0}]]\n"
     ]
    },
    {
     "data": {
      "text/plain": [
       "'OK'"
      ]
     },
     "execution_count": 17,
     "metadata": {},
     "output_type": "execute_result"
    }
   ],
   "source": [
    "main()"
   ]
  },
  {
   "cell_type": "markdown",
   "metadata": {},
   "source": [
    "測試判斷是否連線財報資料庫"
   ]
  },
  {
   "cell_type": "code",
   "execution_count": 6,
   "metadata": {},
   "outputs": [
    {
     "name": "stdout",
     "output_type": "stream",
     "text": [
      "New g4f version: 0.3.9.1 (current: 0.3.8.1) | pip install -U g4f\n",
      "YES\n"
     ]
    },
    {
     "name": "stderr",
     "output_type": "stream",
     "text": [
      "C:\\Users\\TMP214\\AppData\\Local\\Programs\\Python\\Python39\\lib\\asyncio\\events.py:80: UserWarning: Curlm alread closed! quitting from process_data\n",
      "  self._context.run(self._callback, *self._args)\n"
     ]
    }
   ],
   "source": [
    "if __name__ == \"__main__\":\n",
    "    user_input =\"請幫我查詢112年第一季收入。\"   #input(\"請輸入內容: \") \n",
    "    response_1 = client.chat.completions.create( model=\"gpt-4o-mini\", \n",
    "                                                messages=[\n",
    "                                                {\"role\": \"system\", \n",
    "                                                 \"content\":'''1.請判斷使用者的輸入是否需要連線到財務報表資料庫查詢，若需要請回答YES即可!\n",
    "                                                              2.若不用連線只要回答NO即可!\n",
    "                                                              2.財務報表資料內容包含資產負債表、損益表、現金流量表，其餘公司資料就沒有。\n",
    "                                                            \n",
    "                                                            '''},\n",
    "                                                {\"role\": \"user\", \"content\": user_input}])\n",
    "    print(response_1.choices[0].message.content )"
   ]
  },
  {
   "cell_type": "code",
   "execution_count": 8,
   "metadata": {},
   "outputs": [
    {
     "name": "stdout",
     "output_type": "stream",
     "text": [
      "YES\n"
     ]
    }
   ],
   "source": [
    "if __name__ == \"__main__\":\n",
    "    user_input =\"請幫我分析112年淨營收狀態。\"   #input(\"請輸入內容: \") \n",
    "    response_1 = client.chat.completions.create( model=\"gpt-4o-mini\", \n",
    "                                                messages=[\n",
    "                                                {\"role\": \"system\", \n",
    "                                                 \"content\":'''1.請判斷使用者的輸入是否需要連線到財務報表資料庫查詢，若需要請回答YES即可!\n",
    "                                                              2.若不用連線只要回答NO即可!\n",
    "                                                              2.財務報表資料內容包含資產負債表、損益表、現金流量表，其餘公司資料就沒有。\n",
    "                                                            \n",
    "                                                            '''},\n",
    "                                                {\"role\": \"user\", \"content\": user_input}])\n",
    "    print(response_1.choices[0].message.content )"
   ]
  }
 ],
 "metadata": {
  "kernelspec": {
   "display_name": "project_env",
   "language": "python",
   "name": "python3"
  },
  "language_info": {
   "codemirror_mode": {
    "name": "ipython",
    "version": 3
   },
   "file_extension": ".py",
   "mimetype": "text/x-python",
   "name": "python",
   "nbconvert_exporter": "python",
   "pygments_lexer": "ipython3",
   "version": "3.9.8"
  }
 },
 "nbformat": 4,
 "nbformat_minor": 2
}
