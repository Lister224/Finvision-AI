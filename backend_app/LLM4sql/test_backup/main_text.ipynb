{
 "cells": [
  {
   "cell_type": "code",
   "execution_count": 1,
   "metadata": {},
   "outputs": [],
   "source": [
    "#from openai import OpenAI\n",
    "from g4f.client import Client\n",
    "from db_utils import connect_to_db, execute_sql,query_database\n",
    "import re"
   ]
  },
  {
   "cell_type": "code",
   "execution_count": 2,
   "metadata": {},
   "outputs": [],
   "source": [
    "client = Client()"
   ]
  },
  {
   "cell_type": "code",
   "execution_count": 3,
   "metadata": {},
   "outputs": [],
   "source": [
    "def generate_sql_from_nl(user_input):\n",
    "    # mapping_table = load_mapping_from_csv()\n",
    "    system_prompt = f''''\n",
    "        1. 你是一個資料庫專家，能夠生成相應的SQL指令。 \n",
    "        2. SQL的編寫請用全英文。\n",
    "        3. 非常重要!返回sql語法即可，不用其他說明與文字。\n",
    "        4. MYSQL code中請不要出現沒有的英文名稱。\n",
    "        '''\n",
    "\n",
    "    user_prompt = '''\n",
    "        資料庫結構、表名稱、欄位名稱請參考以下內容:\n",
    "        table_name,table_name_cn,column_name,column_name_cn\n",
    "        customer,顧客,CUSTID,顧客ID\n",
    "        customer,顧客,NAME,名稱\n",
    "        customer,顧客,ADDRESS,地址\n",
    "        customer,顧客,CITY,城市\n",
    "        customer,顧客,STATE,州\n",
    "        customer,顧客,ZIP,郵政編碼\n",
    "        customer,顧客,AREA,區域\n",
    "        customer,顧客,PHONE,電話\n",
    "        customer,顧客,REPID,代表ID\n",
    "        customer,顧客,CREDITLIMIT,信用額度\n",
    "        dept,部門,DEPTNO,部門號\n",
    "        dept,部門,DNAME,部門名稱\n",
    "        dept,部門,LOC,位置\n",
    "        emp,員工,EMPNO,員工號\n",
    "        emp,員工,ENAME,員工姓名\n",
    "        emp,員工,JOB,職位\n",
    "        emp,員工,MGR,經理\n",
    "        emp,員工,HIREDATE,入職日期\n",
    "        emp,員工,SAL,工資\n",
    "        emp,員工,COMM,佣金\n",
    "        emp,員工,DEPTNO,部門號\n",
    "        item,項目,ORDID,訂單ID\n",
    "        item,項目,PRODID,產品ID\n",
    "        item,項目,ACTUALPRICE,實際價格\n",
    "        item,項目,QTY,數量\n",
    "        item,項目,ITEMTOT,項目總計\n",
    "        ord,訂單,ORDID,訂單ID\n",
    "        ord,訂單,ORDERDATE,訂單日期\n",
    "        ord,訂單,COMMPLAN,佣金計劃\n",
    "        ord,訂單,CUSTID,顧客ID\n",
    "        ord,訂單,SHIPDATE,發貨日期\n",
    "        ord,訂單,TOTAL,總計\n",
    "        price,價格,PRODID,產品ID\n",
    "        price,價格,STDPRICE,標準價格\n",
    "        price,價格,MINPRICE,最低價格\n",
    "        price,價格,STARTDATE,開始日期\n",
    "        price,價格,ENDDATE,結束日期\n",
    "        product,產品,PRODID,產品ID\n",
    "        product,產品,DESCRIP,描述\n",
    "        salgrade,薪資等級,GRADE,等級\n",
    "        salgrade,薪資等級,LOSAL,最低薪水\n",
    "        salgrade,薪資等級,HISAL,最高薪水\n",
    "                '''\n",
    "    response = client.chat.completions.create(\n",
    "        model=\"gpt-4-turbo\",\n",
    "        messages=[\n",
    "            {\"role\": \"system\", \"content\": system_prompt},\n",
    "            {\"role\": \"user\", \"content\": user_input + user_prompt}\n",
    "        ],\n",
    "        max_tokens=150,\n",
    "        temperature=0.1\n",
    "    )\n",
    "    sql_response = response.choices[0].message.content\n",
    "    return sql_response\n"
   ]
  },
  {
   "cell_type": "code",
   "execution_count": 4,
   "metadata": {},
   "outputs": [],
   "source": [
    "def extract_sql_query(sql_response): \n",
    "    match = re.search(r'SELECT.*', sql_response, re.IGNORECASE) \n",
    "    if match: \n",
    "        return match.group() \n",
    "    else: \n",
    "        raise ValueError(\"SQL查詢指令未找到\")"
   ]
  },
  {
   "cell_type": "code",
   "execution_count": 5,
   "metadata": {},
   "outputs": [
    {
     "name": "stdout",
     "output_type": "stream",
     "text": [
      "New g4f version: 0.3.9.1 (current: 0.3.8.1) | pip install -U g4f\n",
      "===== 初次調用GPT判斷 =====\n"
     ]
    },
    {
     "name": "stderr",
     "output_type": "stream",
     "text": [
      "C:\\Users\\TMP214\\AppData\\Local\\Programs\\Python\\Python39\\lib\\asyncio\\events.py:80: UserWarning: Curlm alread closed! quitting from process_data\n",
      "  self._context.run(self._callback, *self._args)\n"
     ]
    },
    {
     "name": "stdout",
     "output_type": "stream",
     "text": [
      "生成的SQL指令: SELECT * FROM emp;\n",
      "連線成功\n",
      "查詢結果: [{\"EMPNO\": 7369, \"ENAME\": \"SMITH\", \"JOB\": \"CLERK\", \"MGR\": 7902, \"HIREDATE\": \"2010-12-17T00:00:00\", \"SAL\": 800.0, \"COMM\": null, \"DEPTNO\": 20}, {\"EMPNO\": 7499, \"ENAME\": \"ALLEN\", \"JOB\": \"SALESMAN\", \"MGR\": 7698, \"HIREDATE\": \"2011-02-20T00:00:00\", \"SAL\": 1600.0, \"COMM\": 300.0, \"DEPTNO\": 30}, {\"EMPNO\": 7521, \"ENAME\": \"WARD\", \"JOB\": \"SALESMAN\", \"MGR\": 7698, \"HIREDATE\": \"2011-02-22T00:00:00\", \"SAL\": 1250.0, \"COMM\": 500.0, \"DEPTNO\": 30}, {\"EMPNO\": 7566, \"ENAME\": \"JONES\", \"JOB\": \"MANAGER\", \"MGR\": 7839, \"HIREDATE\": \"2011-04-02T00:00:00\", \"SAL\": 2975.0, \"COMM\": null, \"DEPTNO\": 20}, {\"EMPNO\": 7654, \"ENAME\": \"MARTIN\", \"JOB\": \"SALESMAN\", \"MGR\": 7698, \"HIREDATE\": \"2011-09-28T00:00:00\", \"SAL\": 1250.0, \"COMM\": 1400.0, \"DEPTNO\": 30}, {\"EMPNO\": 7698, \"ENAME\": \"BLAKE\", \"JOB\": \"MANAGER\", \"MGR\": 7839, \"HIREDATE\": \"2011-05-01T00:00:00\", \"SAL\": 2850.0, \"COMM\": null, \"DEPTNO\": 30}, {\"EMPNO\": 7782, \"ENAME\": \"CLARK\", \"JOB\": \"MANAGER\", \"MGR\": 7839, \"HIREDATE\": \"2011-06-09T00:00:00\", \"SAL\": 2450.0, \"COMM\": null, \"DEPTNO\": 10}, {\"EMPNO\": 7788, \"ENAME\": \"SCOTT\", \"JOB\": \"ANALYST\", \"MGR\": 7566, \"HIREDATE\": \"2012-12-09T00:00:00\", \"SAL\": 3000.0, \"COMM\": null, \"DEPTNO\": 20}, {\"EMPNO\": 7839, \"ENAME\": \"KING\", \"JOB\": \"PRESIDENT\", \"MGR\": null, \"HIREDATE\": \"2011-11-17T00:00:00\", \"SAL\": 5000.0, \"COMM\": null, \"DEPTNO\": 10}, {\"EMPNO\": 7844, \"ENAME\": \"TURNER\", \"JOB\": \"SALESMAN\", \"MGR\": 7698, \"HIREDATE\": \"2011-09-08T00:00:00\", \"SAL\": 1500.0, \"COMM\": 0.0, \"DEPTNO\": 30}, {\"EMPNO\": 7876, \"ENAME\": \"ADAMS\", \"JOB\": \"CLERK\", \"MGR\": 7788, \"HIREDATE\": \"2013-01-12T00:00:00\", \"SAL\": 1100.0, \"COMM\": null, \"DEPTNO\": 20}, {\"EMPNO\": 7900, \"ENAME\": \"JAMES\", \"JOB\": \"CLERK\", \"MGR\": 7698, \"HIREDATE\": \"2011-12-03T00:00:00\", \"SAL\": 950.0, \"COMM\": null, \"DEPTNO\": 30}, {\"EMPNO\": 7902, \"ENAME\": \"FORD\", \"JOB\": \"ANALYST\", \"MGR\": 7566, \"HIREDATE\": \"2011-12-03T00:00:00\", \"SAL\": 3000.0, \"COMM\": null, \"DEPTNO\": 20}, {\"EMPNO\": 7934, \"ENAME\": \"MILLER\", \"JOB\": \"CLERK\", \"MGR\": 7782, \"HIREDATE\": \"2012-01-23T00:00:00\", \"SAL\": 1300.0, \"COMM\": null, \"DEPTNO\": 10}]\n"
     ]
    }
   ],
   "source": [
    "if __name__ == \"__main__\":\n",
    "    user_input =\"請幫我查詢員工表內所有資訊\"   #input(\"請輸入內容: \") \n",
    "    # 初次調用GPT判斷是否需要function calling \n",
    "    response_1 = client.chat.completions.create( model=\"gpt-4-turbo\", \n",
    "                                                messages=[\n",
    "                                                {\"role\": \"system\", \n",
    "                                                 \"content\":\"請判斷使用者輸入是否需要連線到資料庫查詢，若需要請回答YES即可!若不需要則正常對話\"},\n",
    "                                                {\"role\": \"user\", \"content\": user_input}])\n",
    "    \n",
    "    print('===== 初次調用GPT判斷 =====')\n",
    "    if 'YES' in response_1.choices[0].message.content:\n",
    "        sql_response = generate_sql_from_nl(user_input) \n",
    "        sql_query = extract_sql_query(sql_response)\n",
    "        print(f'生成的SQL指令: {sql_query}') \n",
    "        # 執行GPT生成的SQL查詢 \n",
    "        result = query_database(sql_query)\n",
    "        print(f'查詢結果: {result}')\n",
    "\n",
    "    else: \n",
    "        # 一般對話處理\n",
    "        print(response_1.choices[0].message.content )\n",
    "         \n"
   ]
  }
 ],
 "metadata": {
  "kernelspec": {
   "display_name": "project_env",
   "language": "python",
   "name": "python3"
  },
  "language_info": {
   "codemirror_mode": {
    "name": "ipython",
    "version": 3
   },
   "file_extension": ".py",
   "mimetype": "text/x-python",
   "name": "python",
   "nbconvert_exporter": "python",
   "pygments_lexer": "ipython3",
   "version": "3.9.8"
  }
 },
 "nbformat": 4,
 "nbformat_minor": 2
}
