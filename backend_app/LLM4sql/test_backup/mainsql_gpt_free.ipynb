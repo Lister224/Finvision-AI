{
 "cells": [
  {
   "cell_type": "code",
   "execution_count": 1,
   "metadata": {},
   "outputs": [],
   "source": [
    "from g4f.client import Client\n",
    "from db_utils import csv_read,query_database\n",
    "import re"
   ]
  },
  {
   "cell_type": "code",
   "execution_count": 2,
   "metadata": {},
   "outputs": [],
   "source": [
    "client = Client()"
   ]
  },
  {
   "cell_type": "code",
   "execution_count": 3,
   "metadata": {},
   "outputs": [],
   "source": [
    "def generate_sql_from_nl(user_input):\n",
    "    csv_string = csv_read()\n",
    "    system_prompt = f'''\n",
    "        1. 你是一個財務資料庫專家，能夠生成相應的SQL指令。 \n",
    "        2. SQL的編寫請用全英文，結束請記得給分號。\n",
    "        3. 非常重要!返回sql語法即可，不用其他說明與文字。\n",
    "        4. MYSQL code中請不要出現資料庫中沒有的英文名稱。\n",
    "        5. 請務必生成完整SQL語法，並一定要在首欄加入年或季度的欄位，例如seasonid。\n",
    "        6. **SQL 中報表的欄位名絕對不要使用別稱 (AS)。** \n",
    "        7. **請務必嚴格遵守以上所有指令。**\n",
    "       '''\n",
    "\n",
    "    user_prompt = f'''\n",
    "        1. 資料庫結構、表名稱、欄位名稱請務必參考以下內容:{csv_string}\n",
    "        2. 一定不能生成沒有的sql表名與欄名，欄位名稱請盡量比對中文對照!\n",
    "        3. **請務必要判斷是否需要跨表查詢，如需要請使用join指令。**\n",
    "        4. 另外時間只有年與季度seasonsID，例如2010年第一季格式為201001、2010年第二季格式為201002、\n",
    "        2020年第三季格式為202003、2020年第四季格式為202004\n",
    "        5. **請務必嚴格遵守不要使用別稱 (AS)**\n",
    "                   '''\n",
    "    response = client.chat.completions.create(\n",
    "        model=\"gpt-4o-mini\",\n",
    "        messages=[\n",
    "            {\"role\": \"system\", \"content\": system_prompt},\n",
    "            {\"role\": \"user\", \"content\": user_input + user_prompt}\n",
    "        ],\n",
    "        max_tokens=150,\n",
    "        temperature=0.1\n",
    "    )\n",
    "    sql_response = response.choices[0].message.content\n",
    "    print(f\"回答:{sql_response}\")\n",
    "    return sql_response\n"
   ]
  },
  {
   "cell_type": "markdown",
   "metadata": {},
   "source": [
    "模型可用系列:GPT、Gemini"
   ]
  },
  {
   "cell_type": "code",
   "execution_count": 4,
   "metadata": {},
   "outputs": [],
   "source": [
    "def extract_sql_queries(sql_response):\n",
    "    matches = re.findall(r'SELECT.*?;', sql_response, re.IGNORECASE | re.DOTALL) \n",
    "    if matches:\n",
    "        # 移除每個匹配項中的換行符號 \n",
    "        matches = [match.replace('\\n', ' ') for match in matches]\n",
    "        return matches \n",
    "    else: \n",
    "        raise ValueError(\"SQL查詢指令未找到\")"
   ]
  },
  {
   "cell_type": "code",
   "execution_count": 5,
   "metadata": {},
   "outputs": [],
   "source": [
    "def classify_user_input(user_input:str):\n",
    "    # 初次調用判斷是否需要function calling \n",
    "    response = client.chat.completions.create( model=\"gpt-4o-mini\", \n",
    "                                                messages=[\n",
    "                                                {\"role\": \"system\", \n",
    "                                                 \"content\":'''1.請判斷使用者的輸入是否需要連線到「財務報表」資料庫查詢，若需要請回答finvision即可!\n",
    "                                                              2.若使用者的輸入是關於分析財務指標，請返回analysis即可!\n",
    "                                                              3.若都不屬於查詢與分析範圍，只要回答NO即可!\n",
    "                                                              4.財務報表資料庫內容包含資產負債表、損益表、現金流量表，其餘公司資料都沒有。'''},\n",
    "                                                {\"role\": \"user\", \"content\": user_input}])\n",
    "    \n",
    "    print('===== 初次調用GPT判斷 =====')\n",
    "    if 'finvision' in response.text.lower():\n",
    "        retries = 0\n",
    "        sql_response = generate_sql_from_nl(user_input)\n",
    "        while retries <= 3:\n",
    "            sql_query = extract_sql_queries(sql_response)\n",
    "            print(f'生成的SQL指令: {sql_query}')\n",
    "            report = query_database(sql_query)\n",
    "            if 'Sql query error' not in report:\n",
    "                # 成功，回傳結果\n",
    "                return f\"finvision:{report}\"\n",
    "            else:\n",
    "                # 失敗，再試一次\n",
    "                print(f'SQL查詢失敗: {report}')\n",
    "                sql_response = generate_sql_from_nl(user_input + report)\n",
    "                retries += 1\n",
    "            print(f\"第{retries}次重試\")\n",
    "        \n",
    "        # 如果達到最大重試次數，則返回錯誤訊息\n",
    "        return \"finvision: SQL查詢多次失敗，請稍後再試。\"\n",
    "\n",
    "    else: \n",
    "        # 一般對話處理\n",
    "        return(response.choices[0].message.content)\n",
    "         \n"
   ]
  },
  {
   "cell_type": "code",
   "execution_count": 6,
   "metadata": {},
   "outputs": [],
   "source": [
    "def main():\n",
    "    user_input =\"請給我2022年各季度之資本公積,負債準備增加減少TOE,營業費用合計\"\n",
    "    report = classify_user_input(user_input)\n",
    "    print(report)"
   ]
  },
  {
   "cell_type": "code",
   "execution_count": 7,
   "metadata": {},
   "outputs": [
    {
     "name": "stdout",
     "output_type": "stream",
     "text": [
      "New g4f version: 0.4.1.0 (current: 0.3.9.1) | pip install -U g4f\n",
      "===== 初次調用GPT判斷 =====\n"
     ]
    },
    {
     "ename": "AttributeError",
     "evalue": "'ChatCompletion' object has no attribute 'text'",
     "output_type": "error",
     "traceback": [
      "\u001b[1;31m---------------------------------------------------------------------------\u001b[0m",
      "\u001b[1;31mAttributeError\u001b[0m                            Traceback (most recent call last)",
      "Cell \u001b[1;32mIn[7], line 1\u001b[0m\n\u001b[1;32m----> 1\u001b[0m \u001b[43mmain\u001b[49m\u001b[43m(\u001b[49m\u001b[43m)\u001b[49m\n",
      "Cell \u001b[1;32mIn[6], line 3\u001b[0m, in \u001b[0;36mmain\u001b[1;34m()\u001b[0m\n\u001b[0;32m      1\u001b[0m \u001b[38;5;28;01mdef\u001b[39;00m \u001b[38;5;21mmain\u001b[39m():\n\u001b[0;32m      2\u001b[0m     user_input \u001b[38;5;241m=\u001b[39m\u001b[38;5;124m\"\u001b[39m\u001b[38;5;124m請給我2022年各季度之資本公積,負債準備增加減少TOE,營業費用合計\u001b[39m\u001b[38;5;124m\"\u001b[39m\n\u001b[1;32m----> 3\u001b[0m     report \u001b[38;5;241m=\u001b[39m \u001b[43mclassify_user_input\u001b[49m\u001b[43m(\u001b[49m\u001b[43muser_input\u001b[49m\u001b[43m)\u001b[49m\n\u001b[0;32m      4\u001b[0m     \u001b[38;5;28mprint\u001b[39m(report)\n",
      "Cell \u001b[1;32mIn[5], line 13\u001b[0m, in \u001b[0;36mclassify_user_input\u001b[1;34m(user_input)\u001b[0m\n\u001b[0;32m      3\u001b[0m response \u001b[38;5;241m=\u001b[39m client\u001b[38;5;241m.\u001b[39mchat\u001b[38;5;241m.\u001b[39mcompletions\u001b[38;5;241m.\u001b[39mcreate( model\u001b[38;5;241m=\u001b[39m\u001b[38;5;124m\"\u001b[39m\u001b[38;5;124mgpt-4o-mini\u001b[39m\u001b[38;5;124m\"\u001b[39m, \n\u001b[0;32m      4\u001b[0m                                             messages\u001b[38;5;241m=\u001b[39m[\n\u001b[0;32m      5\u001b[0m                                             {\u001b[38;5;124m\"\u001b[39m\u001b[38;5;124mrole\u001b[39m\u001b[38;5;124m\"\u001b[39m: \u001b[38;5;124m\"\u001b[39m\u001b[38;5;124msystem\u001b[39m\u001b[38;5;124m\"\u001b[39m, \n\u001b[1;32m   (...)\u001b[0m\n\u001b[0;32m      9\u001b[0m \u001b[38;5;124m                                                          4.財務報表資料庫內容包含資產負債表、損益表、現金流量表，其餘公司資料都沒有。\u001b[39m\u001b[38;5;124m'''\u001b[39m},\n\u001b[0;32m     10\u001b[0m                                             {\u001b[38;5;124m\"\u001b[39m\u001b[38;5;124mrole\u001b[39m\u001b[38;5;124m\"\u001b[39m: \u001b[38;5;124m\"\u001b[39m\u001b[38;5;124muser\u001b[39m\u001b[38;5;124m\"\u001b[39m, \u001b[38;5;124m\"\u001b[39m\u001b[38;5;124mcontent\u001b[39m\u001b[38;5;124m\"\u001b[39m: user_input}])\n\u001b[0;32m     12\u001b[0m \u001b[38;5;28mprint\u001b[39m(\u001b[38;5;124m'\u001b[39m\u001b[38;5;124m===== 初次調用GPT判斷 =====\u001b[39m\u001b[38;5;124m'\u001b[39m)\n\u001b[1;32m---> 13\u001b[0m \u001b[38;5;28;01mif\u001b[39;00m \u001b[38;5;124m'\u001b[39m\u001b[38;5;124mfinvision\u001b[39m\u001b[38;5;124m'\u001b[39m \u001b[38;5;129;01min\u001b[39;00m \u001b[43mresponse\u001b[49m\u001b[38;5;241;43m.\u001b[39;49m\u001b[43mtext\u001b[49m\u001b[38;5;241m.\u001b[39mlower():\n\u001b[0;32m     14\u001b[0m     retries \u001b[38;5;241m=\u001b[39m \u001b[38;5;241m0\u001b[39m\n\u001b[0;32m     15\u001b[0m     sql_response \u001b[38;5;241m=\u001b[39m generate_sql_from_nl(user_input)\n",
      "File \u001b[1;32mc:\\Users\\TMP214\\AppData\\Local\\Programs\\Python\\Python310\\lib\\site-packages\\pydantic\\main.py:892\u001b[0m, in \u001b[0;36mBaseModel.__getattr__\u001b[1;34m(self, item)\u001b[0m\n\u001b[0;32m    889\u001b[0m     \u001b[38;5;28;01mreturn\u001b[39;00m \u001b[38;5;28msuper\u001b[39m()\u001b[38;5;241m.\u001b[39m\u001b[38;5;21m__getattribute__\u001b[39m(item)  \u001b[38;5;66;03m# Raises AttributeError if appropriate\u001b[39;00m\n\u001b[0;32m    890\u001b[0m \u001b[38;5;28;01melse\u001b[39;00m:\n\u001b[0;32m    891\u001b[0m     \u001b[38;5;66;03m# this is the current error\u001b[39;00m\n\u001b[1;32m--> 892\u001b[0m     \u001b[38;5;28;01mraise\u001b[39;00m \u001b[38;5;167;01mAttributeError\u001b[39;00m(\u001b[38;5;124mf\u001b[39m\u001b[38;5;124m'\u001b[39m\u001b[38;5;132;01m{\u001b[39;00m\u001b[38;5;28mtype\u001b[39m(\u001b[38;5;28mself\u001b[39m)\u001b[38;5;241m.\u001b[39m\u001b[38;5;18m__name__\u001b[39m\u001b[38;5;132;01m!r}\u001b[39;00m\u001b[38;5;124m object has no attribute \u001b[39m\u001b[38;5;132;01m{\u001b[39;00mitem\u001b[38;5;132;01m!r}\u001b[39;00m\u001b[38;5;124m'\u001b[39m)\n",
      "\u001b[1;31mAttributeError\u001b[0m: 'ChatCompletion' object has no attribute 'text'"
     ]
    }
   ],
   "source": [
    "main()"
   ]
  }
 ],
 "metadata": {
  "kernelspec": {
   "display_name": "Python 3",
   "language": "python",
   "name": "python3"
  },
  "language_info": {
   "codemirror_mode": {
    "name": "ipython",
    "version": 3
   },
   "file_extension": ".py",
   "mimetype": "text/x-python",
   "name": "python",
   "nbconvert_exporter": "python",
   "pygments_lexer": "ipython3",
   "version": "3.10.10"
  }
 },
 "nbformat": 4,
 "nbformat_minor": 2
}
