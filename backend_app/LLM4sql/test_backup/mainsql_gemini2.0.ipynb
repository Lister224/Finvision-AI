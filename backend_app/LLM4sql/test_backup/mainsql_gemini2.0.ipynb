{
 "cells": [
  {
   "cell_type": "code",
   "execution_count": 9,
   "metadata": {},
   "outputs": [],
   "source": [
    "from google import genai\n",
    "from google.genai import types\n",
    "from db_utils import csv_read,query_database\n",
    "import re\n",
    "import os"
   ]
  },
  {
   "cell_type": "code",
   "execution_count": 10,
   "metadata": {},
   "outputs": [],
   "source": [
    "os.environ['GOOGLE_APPLICATION_CREDENTIALS'] = r'C:\\Project_Tibame_Capstone\\Project\\flask_app\\LLM4report\\gemini2.0.json'"
   ]
  },
  {
   "cell_type": "code",
   "execution_count": 11,
   "metadata": {},
   "outputs": [],
   "source": [
    "client = genai.Client(\n",
    "        vertexai=True,\n",
    "        project=\"gen-lang-client-0000496465\",\n",
    "        location=\"us-central1\"\n",
    "    )"
   ]
  },
  {
   "cell_type": "code",
   "execution_count": 12,
   "metadata": {},
   "outputs": [],
   "source": [
    "def extract_sql_queries(sql_response):\n",
    "    matches = re.findall(r'SELECT.*?;', sql_response, re.IGNORECASE | re.DOTALL) \n",
    "    if matches:\n",
    "        # 移除每個匹配項中的換行符號 \n",
    "        matches = [match.replace('\\n', ' ') for match in matches]\n",
    "        return matches \n",
    "    else: \n",
    "        raise ValueError(\"SQL查詢指令未找到\")"
   ]
  },
  {
   "cell_type": "code",
   "execution_count": 13,
   "metadata": {},
   "outputs": [],
   "source": [
    "def generate_sql_from_nl(user_input):\n",
    "    csv_string = csv_read()\n",
    "    system_prompt = f'''\n",
    "        1. 你是一個財務資料庫專家，能夠生成相應的SQL指令。 \n",
    "        2. SQL的編寫請用全英文，結束請記得給分號。\n",
    "        3. 非常重要!返回sql語法即可，不用其他說明與文字。\n",
    "        4. MYSQL code中請不要出現資料庫中沒有的英文名稱。\n",
    "        5. 請務必生成完整SQL語法，並一定要在首欄加入年或季度的欄位，例如seasonid。\n",
    "        6. **SQL 中報表的欄位名絕對不要使用別稱 (AS)。** \n",
    "        7. **請務必嚴格遵守以上所有指令。**\n",
    "       '''\n",
    "    user_prompt = f'''\n",
    "        1. **資料庫結構、表名稱、欄位名稱請務必參考以下內容:{csv_string}**\n",
    "        2. 一定不能生成沒有的sql表名與欄名，欄位名稱請盡量比對中文對照!\n",
    "        3. **請務必要判斷是否需要跨表查詢，如需要請使用join指令。**\n",
    "        4. 另外時間只有年與季度seasonsID，例如2010年第一季格式為201001、2010年第二季格式為201002、\n",
    "        2020年第三季格式為202003、2020年第四季格式為202004\n",
    "        5. **請務必嚴格遵守不要使用別稱 (AS)**\n",
    "                   '''\n",
    "    model= \"gemini-2.0-flash-exp\"\n",
    "    \n",
    "    generation_config = types.GenerateContentConfig(\n",
    "            max_output_tokens=150,\n",
    "            temperature=0.1,\n",
    "            response_modalities = [\"TEXT\"]\n",
    "            )\n",
    "    \n",
    "    contents = [types.Content(parts=[\n",
    "            types.Part.from_text(system_prompt + user_input + user_prompt)\n",
    "        ], role=\"user\")\n",
    "    ]\n",
    "\n",
    "    response = client.models.generate_content(\n",
    "            model = model,\n",
    "            contents = contents,\n",
    "            config = generation_config)\n",
    "\n",
    "    sql_response = response.text\n",
    "\n",
    "    return sql_response\n"
   ]
  },
  {
   "cell_type": "code",
   "execution_count": 14,
   "metadata": {},
   "outputs": [],
   "source": [
    "def classify_user_input(user_input:str):\n",
    "    # 初次調用判斷是否需要function calling\n",
    "\n",
    "    model= \"gemini-2.0-flash-exp\"\n",
    "    \n",
    "    prompt = '''1.請判斷使用者的輸入是否需要連線到「財務報表」資料庫查詢，若需要請回答finvision即可!\n",
    "                2.若使用者的輸入是關於分析財務指標，請返回analysis即可!\n",
    "                3.若都不屬於查詢與分析範圍，只要回答NO即可!\n",
    "                4.財務報表資料庫內容包含資產負債表、損益表、現金流量表，其餘公司資料都沒有。'''\n",
    "\n",
    "    content = [types.Content(parts=[\n",
    "            types.Part.from_text(prompt)\n",
    "            ], role=\"user\")\n",
    "            ]\n",
    "    \n",
    "    \n",
    "    response = client.models.generate_content(\n",
    "            model = model,\n",
    "            contents = content)\n",
    "    \n",
    "    \n",
    "    print('===== 初次調用LLM判斷 =====')\n",
    "    if 'finvision' in response.text.lower():\n",
    "        retries = 0\n",
    "        sql_response = generate_sql_from_nl(user_input)\n",
    "        while retries <= 5:\n",
    "            sql_query = extract_sql_queries(sql_response)\n",
    "            print(f'生成的SQL指令: {sql_query}')\n",
    "            report = query_database(sql_query)\n",
    "            if \"查詢成功\" in report:\n",
    "                # 成功，回傳結果\n",
    "                return f\"finvision:{report}\"\n",
    "            else:\n",
    "                # 失敗，再試一次\n",
    "                print(f'SQL查詢失敗: {report}')\n",
    "                sql_response = generate_sql_from_nl(user_input + report + '若有錯誤請務必重新確認欄位與表的關係')\n",
    "                retries += 1\n",
    "            print(f\"第{retries}次重試\")\n",
    "        \n",
    "        # 如果達到最大重試次數，則返回錯誤訊息\n",
    "        return \"finvision: SQL查詢多次失敗，請稍後再試。\"\n",
    "\n",
    "    else: \n",
    "        # 一般對話處理\n",
    "        return(response.text)"
   ]
  },
  {
   "cell_type": "code",
   "execution_count": 15,
   "metadata": {},
   "outputs": [],
   "source": [
    "def main():\n",
    "    user_input =\"請給我2023年各季度之利息收入、法定盈餘公積、銷貨收入\"\n",
    "    report = classify_user_input(user_input)\n",
    "    print(report)"
   ]
  },
  {
   "cell_type": "code",
   "execution_count": 16,
   "metadata": {},
   "outputs": [
    {
     "name": "stdout",
     "output_type": "stream",
     "text": [
      "===== 初次調用LLM判斷 =====\n",
      "生成的SQL指令: [\"SELECT     pl.seasonsID,     cfs.IR,     bs.LEU,     pl.NSR FROM     pl JOIN     cfs ON pl.seasonsID = cfs.seasonsID JOIN     bs ON pl.seasonsID = bs.seasonsID WHERE     SUBSTR(pl.seasonsID, 1, 4) = '2023';\"]\n",
      "連線成功\n",
      "finvision:{\"status\": \"查詢成功\", \"data\": [[]]}\n"
     ]
    }
   ],
   "source": [
    "main()"
   ]
  }
 ],
 "metadata": {
  "kernelspec": {
   "display_name": "project_env",
   "language": "python",
   "name": "python3"
  },
  "language_info": {
   "codemirror_mode": {
    "name": "ipython",
    "version": 3
   },
   "file_extension": ".py",
   "mimetype": "text/x-python",
   "name": "python",
   "nbconvert_exporter": "python",
   "pygments_lexer": "ipython3",
   "version": "3.9.8"
  }
 },
 "nbformat": 4,
 "nbformat_minor": 2
}
